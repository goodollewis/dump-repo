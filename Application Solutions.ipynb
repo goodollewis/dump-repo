{
 "cells": [
  {
   "cell_type": "code",
   "execution_count": 1,
   "metadata": {},
   "outputs": [],
   "source": [
    "import pandas as pd\n",
    "import numpy as np\n",
    "from pandas import Series,DataFrame\n",
    "\n",
    "import seaborn as sns\n",
    "\n",
    "%matplotlib inline"
   ]
  },
  {
   "cell_type": "code",
   "execution_count": 2,
   "metadata": {},
   "outputs": [],
   "source": [
    "df_data = pd.read_excel('2. DA&V - Data Interpretation (Case Study).xlsx','DATA')"
   ]
  },
  {
   "cell_type": "code",
   "execution_count": 3,
   "metadata": {},
   "outputs": [
    {
     "data": {
      "text/html": [
       "<div>\n",
       "<style scoped>\n",
       "    .dataframe tbody tr th:only-of-type {\n",
       "        vertical-align: middle;\n",
       "    }\n",
       "\n",
       "    .dataframe tbody tr th {\n",
       "        vertical-align: top;\n",
       "    }\n",
       "\n",
       "    .dataframe thead th {\n",
       "        text-align: right;\n",
       "    }\n",
       "</style>\n",
       "<table border=\"1\" class=\"dataframe\">\n",
       "  <thead>\n",
       "    <tr style=\"text-align: right;\">\n",
       "      <th></th>\n",
       "      <th>Customer_ID</th>\n",
       "      <th>Store Number</th>\n",
       "      <th>Customer Segment</th>\n",
       "      <th>First Name</th>\n",
       "      <th>Last Name</th>\n",
       "      <th>Address</th>\n",
       "      <th>City</th>\n",
       "      <th>State</th>\n",
       "      <th>Zip</th>\n",
       "      <th>Visits</th>\n",
       "      <th>Spend</th>\n",
       "    </tr>\n",
       "  </thead>\n",
       "  <tbody>\n",
       "    <tr>\n",
       "      <th>0</th>\n",
       "      <td>10</td>\n",
       "      <td>100</td>\n",
       "      <td>Home Office</td>\n",
       "      <td>PAMELA</td>\n",
       "      <td>WRIGHT</td>\n",
       "      <td>2316 E 5TH AVE</td>\n",
       "      <td>DENVER</td>\n",
       "      <td>CO</td>\n",
       "      <td>80206</td>\n",
       "      <td>1</td>\n",
       "      <td>206.95</td>\n",
       "    </tr>\n",
       "    <tr>\n",
       "      <th>1</th>\n",
       "      <td>100</td>\n",
       "      <td>100</td>\n",
       "      <td>Consumer</td>\n",
       "      <td>MELISSA</td>\n",
       "      <td>RUFF</td>\n",
       "      <td>2753 S MILWAUKEE ST</td>\n",
       "      <td>DENVER</td>\n",
       "      <td>CO</td>\n",
       "      <td>80210</td>\n",
       "      <td>1</td>\n",
       "      <td>228.27</td>\n",
       "    </tr>\n",
       "    <tr>\n",
       "      <th>2</th>\n",
       "      <td>1000</td>\n",
       "      <td>104</td>\n",
       "      <td>Small Business</td>\n",
       "      <td>CONSTANTI</td>\n",
       "      <td>VLASSIS</td>\n",
       "      <td>16911 E HARVARD AVE</td>\n",
       "      <td>AURORA</td>\n",
       "      <td>CO</td>\n",
       "      <td>80013</td>\n",
       "      <td>1</td>\n",
       "      <td>432.44</td>\n",
       "    </tr>\n",
       "    <tr>\n",
       "      <th>3</th>\n",
       "      <td>1002</td>\n",
       "      <td>104</td>\n",
       "      <td>Home Office</td>\n",
       "      <td>AMY</td>\n",
       "      <td>LOCKEMER</td>\n",
       "      <td>3721 S PITKIN CT</td>\n",
       "      <td>AURORA</td>\n",
       "      <td>CO</td>\n",
       "      <td>80013</td>\n",
       "      <td>4</td>\n",
       "      <td>2101.11</td>\n",
       "    </tr>\n",
       "    <tr>\n",
       "      <th>4</th>\n",
       "      <td>1003</td>\n",
       "      <td>101</td>\n",
       "      <td>Home Office</td>\n",
       "      <td>DANELL</td>\n",
       "      <td>VALDEZ</td>\n",
       "      <td>2925 W COLLEGE AVE</td>\n",
       "      <td>DENVER</td>\n",
       "      <td>CO</td>\n",
       "      <td>80219</td>\n",
       "      <td>1</td>\n",
       "      <td>1404.09</td>\n",
       "    </tr>\n",
       "  </tbody>\n",
       "</table>\n",
       "</div>"
      ],
      "text/plain": [
       "   Customer_ID  Store Number Customer Segment First Name Last Name  \\\n",
       "0           10           100      Home Office     PAMELA    WRIGHT   \n",
       "1          100           100         Consumer    MELISSA      RUFF   \n",
       "2         1000           104   Small Business  CONSTANTI   VLASSIS   \n",
       "3         1002           104      Home Office        AMY  LOCKEMER   \n",
       "4         1003           101      Home Office     DANELL    VALDEZ   \n",
       "\n",
       "               Address    City State    Zip  Visits    Spend  \n",
       "0       2316 E 5TH AVE  DENVER    CO  80206       1   206.95  \n",
       "1  2753 S MILWAUKEE ST  DENVER    CO  80210       1   228.27  \n",
       "2  16911 E HARVARD AVE  AURORA    CO  80013       1   432.44  \n",
       "3     3721 S PITKIN CT  AURORA    CO  80013       4  2101.11  \n",
       "4   2925 W COLLEGE AVE  DENVER    CO  80219       1  1404.09  "
      ]
     },
     "execution_count": 3,
     "metadata": {},
     "output_type": "execute_result"
    }
   ],
   "source": [
    "df_data.head()"
   ]
  },
  {
   "cell_type": "code",
   "execution_count": 4,
   "metadata": {},
   "outputs": [
    {
     "data": {
      "text/plain": [
       "Customer Segment\n",
       "Consumer          3370.850304\n",
       "Corporate         3436.910808\n",
       "Home Office       3349.000326\n",
       "Small Business    2789.541618\n",
       "Name: Spend, dtype: float64"
      ]
     },
     "execution_count": 4,
     "metadata": {},
     "output_type": "execute_result"
    }
   ],
   "source": [
    "q1_data = df_data.groupby(['Customer Segment'])['Spend'].mean()\n",
    "q1_data"
   ]
  },
  {
   "cell_type": "code",
   "execution_count": 5,
   "metadata": {
    "scrolled": true
   },
   "outputs": [
    {
     "data": {
      "text/plain": [
       "<matplotlib.axes._subplots.AxesSubplot at 0x1d89af7eef0>"
      ]
     },
     "execution_count": 5,
     "metadata": {},
     "output_type": "execute_result"
    },
    {
     "data": {
      "image/png": "[encoded data removed]",
      "text/plain": [
       "<Figure size 432x288 with 1 Axes>"
      ]
     },
     "metadata": {
      "needs_background": "light"
     },
     "output_type": "display_data"
    }
   ],
   "source": [
    "sns.barplot(df_data['Customer Segment'],df_data['Spend'])"
   ]
  },
  {
   "cell_type": "code",
   "execution_count": 6,
   "metadata": {
    "scrolled": true
   },
   "outputs": [
    {
     "data": {
      "text/plain": [
       "Store Number\n",
       "100    20\n",
       "101    21\n",
       "102     8\n",
       "103    17\n",
       "104    15\n",
       "105    11\n",
       "106     8\n",
       "107     7\n",
       "108    11\n",
       "109     8\n",
       "Name: Visits, dtype: int64"
      ]
     },
     "execution_count": 6,
     "metadata": {},
     "output_type": "execute_result"
    }
   ],
   "source": [
    "q2_data = df_data[df_data['Customer Segment'] == 'Small Business']\n",
    "q2_data.groupby('Store Number').max()['Visits']"
   ]
  },
  {
   "cell_type": "code",
   "execution_count": 7,
   "metadata": {},
   "outputs": [
    {
     "data": {
      "text/plain": [
       "<matplotlib.axes._subplots.AxesSubplot at 0x1d89c4195f8>"
      ]
     },
     "execution_count": 7,
     "metadata": {},
     "output_type": "execute_result"
    },
    {
     "data": {
      "image/png": "[encoded data removed]",
      "text/plain": [
       "<Figure size 432x288 with 1 Axes>"
      ]
     },
     "metadata": {
      "needs_background": "light"
     },
     "output_type": "display_data"
    }
   ],
   "source": [
    "q2_gb = q2_data.groupby('Store Number').max()['Visits']\n",
    "sns.barplot(q2_gb.index,q2_gb)"
   ]
  },
  {
   "cell_type": "code",
   "execution_count": 8,
   "metadata": {},
   "outputs": [
    {
     "data": {
      "text/html": [
       "<div>\n",
       "<style scoped>\n",
       "    .dataframe tbody tr th:only-of-type {\n",
       "        vertical-align: middle;\n",
       "    }\n",
       "\n",
       "    .dataframe tbody tr th {\n",
       "        vertical-align: top;\n",
       "    }\n",
       "\n",
       "    .dataframe thead th {\n",
       "        text-align: right;\n",
       "    }\n",
       "</style>\n",
       "<table border=\"1\" class=\"dataframe\">\n",
       "  <thead>\n",
       "    <tr style=\"text-align: right;\">\n",
       "      <th></th>\n",
       "      <th>Customer_ID</th>\n",
       "      <th>Store Number</th>\n",
       "      <th>Customer Segment</th>\n",
       "      <th>First Name</th>\n",
       "      <th>Last Name</th>\n",
       "      <th>Address</th>\n",
       "      <th>City</th>\n",
       "      <th>State</th>\n",
       "      <th>Zip</th>\n",
       "      <th>Visits</th>\n",
       "      <th>Spend</th>\n",
       "    </tr>\n",
       "  </thead>\n",
       "  <tbody>\n",
       "    <tr>\n",
       "      <th>3</th>\n",
       "      <td>1002</td>\n",
       "      <td>104</td>\n",
       "      <td>Home Office</td>\n",
       "      <td>AMY</td>\n",
       "      <td>LOCKEMER</td>\n",
       "      <td>3721 S PITKIN CT</td>\n",
       "      <td>AURORA</td>\n",
       "      <td>CO</td>\n",
       "      <td>80013</td>\n",
       "      <td>4</td>\n",
       "      <td>2101.11</td>\n",
       "    </tr>\n",
       "    <tr>\n",
       "      <th>5</th>\n",
       "      <td>1005</td>\n",
       "      <td>107</td>\n",
       "      <td>Small Business</td>\n",
       "      <td>JESSICA</td>\n",
       "      <td>RINEHART</td>\n",
       "      <td>4220 W 35TH AVE</td>\n",
       "      <td>DENVER</td>\n",
       "      <td>CO</td>\n",
       "      <td>80212</td>\n",
       "      <td>2</td>\n",
       "      <td>962.61</td>\n",
       "    </tr>\n",
       "    <tr>\n",
       "      <th>6</th>\n",
       "      <td>1006</td>\n",
       "      <td>104</td>\n",
       "      <td>Small Business</td>\n",
       "      <td>NANCY</td>\n",
       "      <td>CLARK</td>\n",
       "      <td>8785 CLOVERLEAF CIR</td>\n",
       "      <td>PARKER</td>\n",
       "      <td>CO</td>\n",
       "      <td>80134</td>\n",
       "      <td>4</td>\n",
       "      <td>552.53</td>\n",
       "    </tr>\n",
       "    <tr>\n",
       "      <th>8</th>\n",
       "      <td>1009</td>\n",
       "      <td>104</td>\n",
       "      <td>Corporate</td>\n",
       "      <td>DENISE</td>\n",
       "      <td>PENTICO</td>\n",
       "      <td>4125C S EVANSTON CIR</td>\n",
       "      <td>AURORA</td>\n",
       "      <td>CO</td>\n",
       "      <td>80014</td>\n",
       "      <td>2</td>\n",
       "      <td>7026.44</td>\n",
       "    </tr>\n",
       "    <tr>\n",
       "      <th>9</th>\n",
       "      <td>101</td>\n",
       "      <td>100</td>\n",
       "      <td>Consumer</td>\n",
       "      <td>ERNA</td>\n",
       "      <td>ARUSTAMYAN</td>\n",
       "      <td>1137 S BOSTON CT</td>\n",
       "      <td>DENVER</td>\n",
       "      <td>CO</td>\n",
       "      <td>80247</td>\n",
       "      <td>2</td>\n",
       "      <td>1838.64</td>\n",
       "    </tr>\n",
       "  </tbody>\n",
       "</table>\n",
       "</div>"
      ],
      "text/plain": [
       "   Customer_ID  Store Number Customer Segment First Name   Last Name  \\\n",
       "3         1002           104      Home Office        AMY    LOCKEMER   \n",
       "5         1005           107   Small Business    JESSICA    RINEHART   \n",
       "6         1006           104   Small Business      NANCY       CLARK   \n",
       "8         1009           104        Corporate     DENISE     PENTICO   \n",
       "9          101           100         Consumer       ERNA  ARUSTAMYAN   \n",
       "\n",
       "                Address    City State    Zip  Visits    Spend  \n",
       "3      3721 S PITKIN CT  AURORA    CO  80013       4  2101.11  \n",
       "5       4220 W 35TH AVE  DENVER    CO  80212       2   962.61  \n",
       "6   8785 CLOVERLEAF CIR  PARKER    CO  80134       4   552.53  \n",
       "8  4125C S EVANSTON CIR  AURORA    CO  80014       2  7026.44  \n",
       "9      1137 S BOSTON CT  DENVER    CO  80247       2  1838.64  "
      ]
     },
     "execution_count": 8,
     "metadata": {},
     "output_type": "execute_result"
    }
   ],
   "source": [
    "q3_data = df_data[df_data['Visits']>=2]\n",
    "q3_data.head()"
   ]
  },
  {
   "cell_type": "code",
   "execution_count": 9,
   "metadata": {},
   "outputs": [
    {
     "data": {
      "text/plain": [
       "Customer Segment\n",
       "Consumer          348\n",
       "Corporate         642\n",
       "Home Office       449\n",
       "Small Business    352\n",
       "Name: Customer_ID, dtype: int64"
      ]
     },
     "execution_count": 9,
     "metadata": {},
     "output_type": "execute_result"
    }
   ],
   "source": [
    "q3_data.groupby('Customer Segment')['Customer_ID'].count()"
   ]
  },
  {
   "cell_type": "code",
   "execution_count": 16,
   "metadata": {},
   "outputs": [
    {
     "data": {
      "text/plain": [
       "<matplotlib.axes._subplots.AxesSubplot at 0x1d89c4ca710>"
      ]
     },
     "execution_count": 16,
     "metadata": {},
     "output_type": "execute_result"
    },
    {
     "data": {
      "image/png": "[encoded data removed]",
      "text/plain": [
       "<Figure size 432x288 with 1 Axes>"
      ]
     },
     "metadata": {
      "needs_background": "light"
     },
     "output_type": "display_data"
    }
   ],
   "source": [
    "q3_gb = q3_data.groupby('Customer Segment')['Customer_ID'].count()\n",
    "sns.barplot(q3_gb.index,q3_gb)"
   ]
  },
  {
   "cell_type": "code",
   "execution_count": 11,
   "metadata": {},
   "outputs": [],
   "source": [
    "df_data['Spend per Visit'] = df_data['Spend']/df_data['Visits']"
   ]
  },
  {
   "cell_type": "code",
   "execution_count": 19,
   "metadata": {},
   "outputs": [
    {
     "data": {
      "text/html": [
       "<div>\n",
       "<style scoped>\n",
       "    .dataframe tbody tr th:only-of-type {\n",
       "        vertical-align: middle;\n",
       "    }\n",
       "\n",
       "    .dataframe tbody tr th {\n",
       "        vertical-align: top;\n",
       "    }\n",
       "\n",
       "    .dataframe thead th {\n",
       "        text-align: right;\n",
       "    }\n",
       "</style>\n",
       "<table border=\"1\" class=\"dataframe\">\n",
       "  <thead>\n",
       "    <tr style=\"text-align: right;\">\n",
       "      <th></th>\n",
       "      <th>Spend per Visit</th>\n",
       "    </tr>\n",
       "    <tr>\n",
       "      <th>Customer_ID</th>\n",
       "      <th></th>\n",
       "    </tr>\n",
       "  </thead>\n",
       "  <tbody>\n",
       "    <tr>\n",
       "      <th>794</th>\n",
       "      <td>15503.700000</td>\n",
       "    </tr>\n",
       "    <tr>\n",
       "      <th>1610</th>\n",
       "      <td>12163.610000</td>\n",
       "    </tr>\n",
       "    <tr>\n",
       "      <th>35</th>\n",
       "      <td>10880.440000</td>\n",
       "    </tr>\n",
       "    <tr>\n",
       "      <th>2507</th>\n",
       "      <td>10180.010000</td>\n",
       "    </tr>\n",
       "    <tr>\n",
       "      <th>1166</th>\n",
       "      <td>10020.480000</td>\n",
       "    </tr>\n",
       "    <tr>\n",
       "      <th>1733</th>\n",
       "      <td>9780.450000</td>\n",
       "    </tr>\n",
       "    <tr>\n",
       "      <th>1583</th>\n",
       "      <td>9629.910000</td>\n",
       "    </tr>\n",
       "    <tr>\n",
       "      <th>2842</th>\n",
       "      <td>9360.466667</td>\n",
       "    </tr>\n",
       "    <tr>\n",
       "      <th>2189</th>\n",
       "      <td>8803.298000</td>\n",
       "    </tr>\n",
       "    <tr>\n",
       "      <th>1822</th>\n",
       "      <td>8801.001667</td>\n",
       "    </tr>\n",
       "  </tbody>\n",
       "</table>\n",
       "</div>"
      ],
      "text/plain": [
       "             Spend per Visit\n",
       "Customer_ID                 \n",
       "794             15503.700000\n",
       "1610            12163.610000\n",
       "35              10880.440000\n",
       "2507            10180.010000\n",
       "1166            10020.480000\n",
       "1733             9780.450000\n",
       "1583             9629.910000\n",
       "2842             9360.466667\n",
       "2189             8803.298000\n",
       "1822             8801.001667"
      ]
     },
     "execution_count": 19,
     "metadata": {},
     "output_type": "execute_result"
    }
   ],
   "source": [
    "DataFrame(df_data.groupby('Customer_ID')['Spend per Visit'].mean().sort_values(ascending = False).head(10))"
   ]
  },
  {
   "cell_type": "code",
   "execution_count": 17,
   "metadata": {},
   "outputs": [
    {
     "data": {
      "text/plain": [
       "<matplotlib.axes._subplots.AxesSubplot at 0x1d89c5caf98>"
      ]
     },
     "execution_count": 17,
     "metadata": {},
     "output_type": "execute_result"
    },
    {
     "data": {
      "image/png": "[encoded data removed]",
      "text/plain": [
       "<Figure size 432x288 with 1 Axes>"
      ]
     },
     "metadata": {
      "needs_background": "light"
     },
     "output_type": "display_data"
    }
   ],
   "source": [
    "q4_gb = df_data.groupby('Customer_ID')['Spend per Visit'].mean().sort_values(ascending = False).head(10)\n",
    "sns.barplot(q4_gb.index,q4_gb)"
   ]
  },
  {
   "cell_type": "code",
   "execution_count": 13,
   "metadata": {},
   "outputs": [
    {
     "data": {
      "text/html": [
       "<div>\n",
       "<style scoped>\n",
       "    .dataframe tbody tr th:only-of-type {\n",
       "        vertical-align: middle;\n",
       "    }\n",
       "\n",
       "    .dataframe tbody tr th {\n",
       "        vertical-align: top;\n",
       "    }\n",
       "\n",
       "    .dataframe thead th {\n",
       "        text-align: right;\n",
       "    }\n",
       "</style>\n",
       "<table border=\"1\" class=\"dataframe\">\n",
       "  <thead>\n",
       "    <tr style=\"text-align: right;\">\n",
       "      <th></th>\n",
       "      <th>Customer_ID</th>\n",
       "      <th>Store Number</th>\n",
       "      <th>Customer Segment</th>\n",
       "      <th>First Name</th>\n",
       "      <th>Last Name</th>\n",
       "      <th>Address</th>\n",
       "      <th>City</th>\n",
       "      <th>State</th>\n",
       "      <th>Zip</th>\n",
       "      <th>Visits</th>\n",
       "      <th>Spend</th>\n",
       "      <th>Spend per Visit</th>\n",
       "    </tr>\n",
       "  </thead>\n",
       "  <tbody>\n",
       "    <tr>\n",
       "      <th>2484</th>\n",
       "      <td>794</td>\n",
       "      <td>109</td>\n",
       "      <td>Corporate</td>\n",
       "      <td>DORIS</td>\n",
       "      <td>PURVIS</td>\n",
       "      <td>145 GARNET ST</td>\n",
       "      <td>BROOMFIELD</td>\n",
       "      <td>CO</td>\n",
       "      <td>80020</td>\n",
       "      <td>1</td>\n",
       "      <td>15503.7</td>\n",
       "      <td>15503.7</td>\n",
       "    </tr>\n",
       "  </tbody>\n",
       "</table>\n",
       "</div>"
      ],
      "text/plain": [
       "      Customer_ID  Store Number Customer Segment First Name Last Name  \\\n",
       "2484          794           109        Corporate      DORIS    PURVIS   \n",
       "\n",
       "            Address        City State    Zip  Visits    Spend  Spend per Visit  \n",
       "2484  145 GARNET ST  BROOMFIELD    CO  80020       1  15503.7          15503.7  "
      ]
     },
     "execution_count": 13,
     "metadata": {},
     "output_type": "execute_result"
    }
   ],
   "source": [
    "df_data[df_data['Customer_ID']==794]"
   ]
  },
  {
   "cell_type": "code",
   "execution_count": 14,
   "metadata": {},
   "outputs": [
    {
     "data": {
      "text/plain": [
       "{'ARVADA', 'AURORA', 'COMMERCE CITY', 'DENVER', 'ENGLEWOOD', 'LITTLETON'}"
      ]
     },
     "execution_count": 14,
     "metadata": {},
     "output_type": "execute_result"
    }
   ],
   "source": [
    "set(df_data[df_data['Store Number']==100]['City'])"
   ]
  },
  {
   "cell_type": "code",
   "execution_count": 15,
   "metadata": {},
   "outputs": [
    {
     "data": {
      "text/plain": [
       "10"
      ]
     },
     "execution_count": 15,
     "metadata": {},
     "output_type": "execute_result"
    }
   ],
   "source": [
    "df_data[df_data['City']=='DENVER']['Store Number'].nunique()"
   ]
  },
  {
   "cell_type": "code",
   "execution_count": 32,
   "metadata": {},
   "outputs": [
    {
     "data": {
      "text/html": [
       "<div>\n",
       "<style scoped>\n",
       "    .dataframe tbody tr th:only-of-type {\n",
       "        vertical-align: middle;\n",
       "    }\n",
       "\n",
       "    .dataframe tbody tr th {\n",
       "        vertical-align: top;\n",
       "    }\n",
       "\n",
       "    .dataframe thead th {\n",
       "        text-align: right;\n",
       "    }\n",
       "</style>\n",
       "<table border=\"1\" class=\"dataframe\">\n",
       "  <thead>\n",
       "    <tr style=\"text-align: right;\">\n",
       "      <th></th>\n",
       "      <th>Store Number</th>\n",
       "      <th>Visits</th>\n",
       "      <th>Spend per Visit</th>\n",
       "    </tr>\n",
       "    <tr>\n",
       "      <th>City</th>\n",
       "      <th></th>\n",
       "      <th></th>\n",
       "      <th></th>\n",
       "    </tr>\n",
       "  </thead>\n",
       "  <tbody>\n",
       "    <tr>\n",
       "      <th>HENDERSON</th>\n",
       "      <td>1</td>\n",
       "      <td>3</td>\n",
       "      <td>176.610000</td>\n",
       "    </tr>\n",
       "    <tr>\n",
       "      <th>BRIGHTON</th>\n",
       "      <td>2</td>\n",
       "      <td>7</td>\n",
       "      <td>225.423333</td>\n",
       "    </tr>\n",
       "    <tr>\n",
       "      <th>CASTLE ROCK</th>\n",
       "      <td>1</td>\n",
       "      <td>9</td>\n",
       "      <td>327.160556</td>\n",
       "    </tr>\n",
       "    <tr>\n",
       "      <th>LONE TREE</th>\n",
       "      <td>2</td>\n",
       "      <td>16</td>\n",
       "      <td>2068.169119</td>\n",
       "    </tr>\n",
       "    <tr>\n",
       "      <th>BOULDER</th>\n",
       "      <td>1</td>\n",
       "      <td>18</td>\n",
       "      <td>776.309111</td>\n",
       "    </tr>\n",
       "    <tr>\n",
       "      <th>LAFAYETTE</th>\n",
       "      <td>2</td>\n",
       "      <td>19</td>\n",
       "      <td>220.630405</td>\n",
       "    </tr>\n",
       "    <tr>\n",
       "      <th>MORRISON</th>\n",
       "      <td>2</td>\n",
       "      <td>28</td>\n",
       "      <td>804.174286</td>\n",
       "    </tr>\n",
       "    <tr>\n",
       "      <th>THORNTON</th>\n",
       "      <td>2</td>\n",
       "      <td>37</td>\n",
       "      <td>601.376389</td>\n",
       "    </tr>\n",
       "    <tr>\n",
       "      <th>LOUISVILLE</th>\n",
       "      <td>3</td>\n",
       "      <td>48</td>\n",
       "      <td>484.586355</td>\n",
       "    </tr>\n",
       "    <tr>\n",
       "      <th>COMMERCE CITY</th>\n",
       "      <td>6</td>\n",
       "      <td>76</td>\n",
       "      <td>641.431922</td>\n",
       "    </tr>\n",
       "    <tr>\n",
       "      <th>GOLDEN</th>\n",
       "      <td>5</td>\n",
       "      <td>82</td>\n",
       "      <td>824.896350</td>\n",
       "    </tr>\n",
       "    <tr>\n",
       "      <th>PARKER</th>\n",
       "      <td>2</td>\n",
       "      <td>101</td>\n",
       "      <td>658.204728</td>\n",
       "    </tr>\n",
       "    <tr>\n",
       "      <th>WHEAT RIDGE</th>\n",
       "      <td>6</td>\n",
       "      <td>182</td>\n",
       "      <td>907.569045</td>\n",
       "    </tr>\n",
       "    <tr>\n",
       "      <th>WESTMINSTER</th>\n",
       "      <td>5</td>\n",
       "      <td>246</td>\n",
       "      <td>701.693223</td>\n",
       "    </tr>\n",
       "    <tr>\n",
       "      <th>ENGLEWOOD</th>\n",
       "      <td>7</td>\n",
       "      <td>319</td>\n",
       "      <td>780.815496</td>\n",
       "    </tr>\n",
       "    <tr>\n",
       "      <th>LITTLETON</th>\n",
       "      <td>5</td>\n",
       "      <td>479</td>\n",
       "      <td>752.230324</td>\n",
       "    </tr>\n",
       "    <tr>\n",
       "      <th>BROOMFIELD</th>\n",
       "      <td>4</td>\n",
       "      <td>533</td>\n",
       "      <td>760.789234</td>\n",
       "    </tr>\n",
       "    <tr>\n",
       "      <th>ARVADA</th>\n",
       "      <td>6</td>\n",
       "      <td>903</td>\n",
       "      <td>859.361848</td>\n",
       "    </tr>\n",
       "    <tr>\n",
       "      <th>AURORA</th>\n",
       "      <td>4</td>\n",
       "      <td>2124</td>\n",
       "      <td>729.524630</td>\n",
       "    </tr>\n",
       "    <tr>\n",
       "      <th>DENVER</th>\n",
       "      <td>10</td>\n",
       "      <td>4104</td>\n",
       "      <td>803.415347</td>\n",
       "    </tr>\n",
       "  </tbody>\n",
       "</table>\n",
       "</div>"
      ],
      "text/plain": [
       "               Store Number  Visits  Spend per Visit\n",
       "City                                                \n",
       "HENDERSON                 1       3       176.610000\n",
       "BRIGHTON                  2       7       225.423333\n",
       "CASTLE ROCK               1       9       327.160556\n",
       "LONE TREE                 2      16      2068.169119\n",
       "BOULDER                   1      18       776.309111\n",
       "LAFAYETTE                 2      19       220.630405\n",
       "MORRISON                  2      28       804.174286\n",
       "THORNTON                  2      37       601.376389\n",
       "LOUISVILLE                3      48       484.586355\n",
       "COMMERCE CITY             6      76       641.431922\n",
       "GOLDEN                    5      82       824.896350\n",
       "PARKER                    2     101       658.204728\n",
       "WHEAT RIDGE               6     182       907.569045\n",
       "WESTMINSTER               5     246       701.693223\n",
       "ENGLEWOOD                 7     319       780.815496\n",
       "LITTLETON                 5     479       752.230324\n",
       "BROOMFIELD                4     533       760.789234\n",
       "ARVADA                    6     903       859.361848\n",
       "AURORA                    4    2124       729.524630\n",
       "DENVER                   10    4104       803.415347"
      ]
     },
     "execution_count": 32,
     "metadata": {},
     "output_type": "execute_result"
    }
   ],
   "source": [
    "df_data.groupby('City')[['Store Number','Visits','Spend per Visit']].agg({'Store Number':'nunique','Visits':'sum','Spend per Visit':'mean'}).sort_values('Visits')"
   ]
  }
 ],
 "metadata": {
  "kernelspec": {
   "display_name": "Python 3",
   "language": "python",
   "name": "python3"
  },
  "language_info": {
   "codemirror_mode": {
    "name": "ipython",
    "version": 3
   },
   "file_extension": ".py",
   "mimetype": "text/x-python",
   "name": "python",
   "nbconvert_exporter": "python",
   "pygments_lexer": "ipython3",
   "version": "3.7.3"
  }
 },
 "nbformat": 4,
 "nbformat_minor": 2
}
