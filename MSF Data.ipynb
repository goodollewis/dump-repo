{
 "cells": [
  {
   "cell_type": "code",
   "execution_count": 1,
   "metadata": {},
   "outputs": [],
   "source": [
    "import pandas as pd\n",
    "import numpy as np\n",
    "from pandas import Series, DataFrame\n",
    "\n",
    "import datetime\n",
    "import calendar\n",
    "\n",
    "import seaborn as sns\n",
    "import matplotlib\n",
    "import matplotlib.pyplot as plt\n",
    "\n",
    "%matplotlib inline"
   ]
  },
  {
   "cell_type": "code",
   "execution_count": 2,
   "metadata": {},
   "outputs": [],
   "source": [
    "data_df = pd.read_csv('Copy of Attendance Events Reports - MSF.csv')"
   ]
  },
  {
   "cell_type": "code",
   "execution_count": 3,
   "metadata": {},
   "outputs": [
    {
     "data": {
      "text/html": [
       "<div>\n",
       "<style scoped>\n",
       "    .dataframe tbody tr th:only-of-type {\n",
       "        vertical-align: middle;\n",
       "    }\n",
       "\n",
       "    .dataframe tbody tr th {\n",
       "        vertical-align: top;\n",
       "    }\n",
       "\n",
       "    .dataframe thead th {\n",
       "        text-align: right;\n",
       "    }\n",
       "</style>\n",
       "<table border=\"1\" class=\"dataframe\">\n",
       "  <thead>\n",
       "    <tr style=\"text-align: right;\">\n",
       "      <th></th>\n",
       "      <th>Name of event</th>\n",
       "      <th>Date of Event</th>\n",
       "      <th>First Name</th>\n",
       "      <th>Full Name</th>\n",
       "      <th>Date Bought Ticket</th>\n",
       "      <th>Days Before Event Bought Ticket</th>\n",
       "      <th>Type Ticket Bought</th>\n",
       "      <th>Date Joined Meetup Group</th>\n",
       "      <th>Email by Formula</th>\n",
       "      <th>Manual Email</th>\n",
       "      <th>Attended?</th>\n",
       "      <th>Prv Attendee for MSF</th>\n",
       "      <th>Attended MSF this number of times</th>\n",
       "      <th>Number of times attended other events before</th>\n",
       "      <th>Types of Events Previously Attended</th>\n",
       "    </tr>\n",
       "  </thead>\n",
       "  <tbody>\n",
       "    <tr>\n",
       "      <th>0</th>\n",
       "      <td>The MASSIVE Speed Friending Event</td>\n",
       "      <td>14/05/2021</td>\n",
       "      <td>Cece</td>\n",
       "      <td>Cece Warner</td>\n",
       "      <td>14/ May 2021</td>\n",
       "      <td>0</td>\n",
       "      <td>NaN</td>\n",
       "      <td>NaN</td>\n",
       "      <td>crizzal@hotmail.co.uk</td>\n",
       "      <td>crizzal@hotmail.co.uk</td>\n",
       "      <td>Yes</td>\n",
       "      <td>No</td>\n",
       "      <td>1</td>\n",
       "      <td>1</td>\n",
       "      <td>Speed Friending</td>\n",
       "    </tr>\n",
       "    <tr>\n",
       "      <th>1</th>\n",
       "      <td>The MASSIVE Speed Friending Event</td>\n",
       "      <td>14/05/2021</td>\n",
       "      <td>Matthew</td>\n",
       "      <td>Matthew Wegner</td>\n",
       "      <td>14/ May 2021</td>\n",
       "      <td>0</td>\n",
       "      <td>NaN</td>\n",
       "      <td>NaN</td>\n",
       "      <td>NaN</td>\n",
       "      <td>NaN</td>\n",
       "      <td>Yes</td>\n",
       "      <td>No</td>\n",
       "      <td>1</td>\n",
       "      <td>1</td>\n",
       "      <td>Speed Friending</td>\n",
       "    </tr>\n",
       "    <tr>\n",
       "      <th>2</th>\n",
       "      <td>The MASSIVE Speed Friending Event</td>\n",
       "      <td>14/05/2021</td>\n",
       "      <td>Zvoni</td>\n",
       "      <td>Zvoni Filj</td>\n",
       "      <td>14/ May 2021</td>\n",
       "      <td>0</td>\n",
       "      <td>NaN</td>\n",
       "      <td>NaN</td>\n",
       "      <td>zvjoo.online@gmail.com</td>\n",
       "      <td>zvjoo.online@gmail.com</td>\n",
       "      <td>Yes</td>\n",
       "      <td>No</td>\n",
       "      <td>1</td>\n",
       "      <td>1</td>\n",
       "      <td>Speed Friending</td>\n",
       "    </tr>\n",
       "    <tr>\n",
       "      <th>3</th>\n",
       "      <td>The MASSIVE Speed Friending Event</td>\n",
       "      <td>14/05/2021</td>\n",
       "      <td>Fozlur</td>\n",
       "      <td>Fozlur Rohman</td>\n",
       "      <td>14/ May 2021</td>\n",
       "      <td>0</td>\n",
       "      <td>NaN</td>\n",
       "      <td>NaN</td>\n",
       "      <td>fozlurrohman@gmail.com</td>\n",
       "      <td>Fozlurrohman@gmail.com</td>\n",
       "      <td>Yes</td>\n",
       "      <td>No</td>\n",
       "      <td>1</td>\n",
       "      <td>1</td>\n",
       "      <td>Speed Friending</td>\n",
       "    </tr>\n",
       "    <tr>\n",
       "      <th>4</th>\n",
       "      <td>The MASSIVE Speed Friending Event</td>\n",
       "      <td>14/05/2021</td>\n",
       "      <td>Kate</td>\n",
       "      <td>Kate Montague</td>\n",
       "      <td>14/ May 2021</td>\n",
       "      <td>0</td>\n",
       "      <td>NaN</td>\n",
       "      <td>10/07/2020</td>\n",
       "      <td>seanamontague9@hotmail.com</td>\n",
       "      <td>seanamontague9@hotmail.com</td>\n",
       "      <td>No</td>\n",
       "      <td>No</td>\n",
       "      <td>1</td>\n",
       "      <td>1</td>\n",
       "      <td>Speed Friending</td>\n",
       "    </tr>\n",
       "  </tbody>\n",
       "</table>\n",
       "</div>"
      ],
      "text/plain": [
       "                       Name of event Date of Event First Name       Full Name  \\\n",
       "0  The MASSIVE Speed Friending Event    14/05/2021       Cece     Cece Warner   \n",
       "1  The MASSIVE Speed Friending Event    14/05/2021    Matthew  Matthew Wegner   \n",
       "2  The MASSIVE Speed Friending Event    14/05/2021      Zvoni      Zvoni Filj   \n",
       "3  The MASSIVE Speed Friending Event    14/05/2021     Fozlur   Fozlur Rohman   \n",
       "4  The MASSIVE Speed Friending Event    14/05/2021       Kate   Kate Montague   \n",
       "\n",
       "  Date Bought Ticket  Days Before Event Bought Ticket  Type Ticket Bought  \\\n",
       "0       14/ May 2021                                0                 NaN   \n",
       "1       14/ May 2021                                0                 NaN   \n",
       "2       14/ May 2021                                0                 NaN   \n",
       "3       14/ May 2021                                0                 NaN   \n",
       "4       14/ May 2021                                0                 NaN   \n",
       "\n",
       "  Date Joined Meetup Group            Email by Formula  \\\n",
       "0                      NaN       crizzal@hotmail.co.uk   \n",
       "1                      NaN                         NaN   \n",
       "2                      NaN      zvjoo.online@gmail.com   \n",
       "3                      NaN      fozlurrohman@gmail.com   \n",
       "4               10/07/2020  seanamontague9@hotmail.com   \n",
       "\n",
       "                 Manual Email Attended? Prv Attendee for MSF  \\\n",
       "0       crizzal@hotmail.co.uk       Yes                   No   \n",
       "1                         NaN       Yes                   No   \n",
       "2      zvjoo.online@gmail.com       Yes                   No   \n",
       "3      Fozlurrohman@gmail.com       Yes                   No   \n",
       "4  seanamontague9@hotmail.com        No                   No   \n",
       "\n",
       "   Attended MSF this number of times  \\\n",
       "0                                  1   \n",
       "1                                  1   \n",
       "2                                  1   \n",
       "3                                  1   \n",
       "4                                  1   \n",
       "\n",
       "   Number of times attended other events before  \\\n",
       "0                                             1   \n",
       "1                                             1   \n",
       "2                                             1   \n",
       "3                                             1   \n",
       "4                                             1   \n",
       "\n",
       "  Types of Events Previously Attended  \n",
       "0                     Speed Friending  \n",
       "1                     Speed Friending  \n",
       "2                     Speed Friending  \n",
       "3                     Speed Friending  \n",
       "4                     Speed Friending  "
      ]
     },
     "execution_count": 3,
     "metadata": {},
     "output_type": "execute_result"
    }
   ],
   "source": [
    "data_df.head()"
   ]
  },
  {
   "cell_type": "code",
   "execution_count": 6,
   "metadata": {},
   "outputs": [],
   "source": [
    "data_df['Attended?'].replace({'Yes':True,'No':False},inplace=True)"
   ]
  },
  {
   "cell_type": "code",
   "execution_count": 12,
   "metadata": {},
   "outputs": [
    {
     "data": {
      "text/plain": [
       "PointbiserialrResult(correlation=-0.2296146143412861, pvalue=0.02223912900516113)"
      ]
     },
     "execution_count": 12,
     "metadata": {},
     "output_type": "execute_result"
    }
   ],
   "source": [
    "from scipy import stats\n",
    "\n",
    "a = data_df['Attended?']\n",
    "b = data_df['Attended MSF this number of times']\n",
    "c = data_df['Number of times attended other events before']\n",
    "\n",
    "stats.pointbiserialr(a,b)"
   ]
  },
  {
   "cell_type": "code",
   "execution_count": 14,
   "metadata": {},
   "outputs": [
    {
     "data": {
      "text/plain": [
       "PointbiserialrResult(correlation=-0.026080882848504506, pvalue=0.7977582931505569)"
      ]
     },
     "execution_count": 14,
     "metadata": {},
     "output_type": "execute_result"
    }
   ],
   "source": [
    "stats.pointbiserialr(a,c)"
   ]
  }
 ],
 "metadata": {
  "kernelspec": {
   "display_name": "Python 3",
   "language": "python",
   "name": "python3"
  },
  "language_info": {
   "codemirror_mode": {
    "name": "ipython",
    "version": 3
   },
   "file_extension": ".py",
   "mimetype": "text/x-python",
   "name": "python",
   "nbconvert_exporter": "python",
   "pygments_lexer": "ipython3",
   "version": "3.7.3"
  }
 },
 "nbformat": 4,
 "nbformat_minor": 2
}
